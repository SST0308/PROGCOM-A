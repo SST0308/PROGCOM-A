{
  "nbformat": 4,
  "nbformat_minor": 0,
  "metadata": {
    "colab": {
      "provenance": [],
      "authorship_tag": "ABX9TyP1eSZzb5KQ1TqdhmmHhdOh",
      "include_colab_link": true
    },
    "kernelspec": {
      "name": "python3",
      "display_name": "Python 3"
    },
    "language_info": {
      "name": "python"
    }
  },
  "cells": [
    {
      "cell_type": "markdown",
      "metadata": {
        "id": "view-in-github",
        "colab_type": "text"
      },
      "source": [
        "<a href=\"https://colab.research.google.com/github/SST0308/PROGCOM-A/blob/main/Ejerciciocomplejos.ipynb\" target=\"_parent\"><img src=\"https://colab.research.google.com/assets/colab-badge.svg\" alt=\"Open In Colab\"/></a>"
      ]
    },
    {
      "cell_type": "code",
      "execution_count": 17,
      "metadata": {
        "colab": {
          "base_uri": "https://localhost:8080/"
        },
        "id": "we4orkuDhFdj",
        "outputId": "8ab0a3f8-725f-4d99-f00e-a368b233b4cc"
      },
      "outputs": [
        {
          "output_type": "stream",
          "name": "stdout",
          "text": [
            "ingrese un número complejo 3+5j\n",
            "su coordenada en el plano complejo es 3.0  y  5.0  respectivamente para los ejes X y Y\n"
          ]
        }
      ],
      "source": [
        "a=complex(input(\"ingrese un número complejo \"))\n",
        "print(\"su coordenada en el plano complejo es\",a.real,\" y \",a.imag,\" respectivamente para los ejes X y Y\")"
      ]
    },
    {
      "cell_type": "code",
      "source": [
        "a=complex(input(\"Por favor ingrese la tensión de su sistema \"))\n",
        "b=complex(input(\"Ahora, por favor ingrese su impedancia \"))\n",
        "I=complex\n",
        "I = a / b\n",
        "print(\"El voltaje de su sistema es de\" ,I, \"amperios\")"
      ],
      "metadata": {
        "colab": {
          "base_uri": "https://localhost:8080/"
        },
        "id": "qCVZEGpxkL-k",
        "outputId": "a5ee4e21-bbb8-4da2-c129-56427e1bc8ef"
      },
      "execution_count": 21,
      "outputs": [
        {
          "output_type": "stream",
          "name": "stdout",
          "text": [
            "Por favor ingrese la tensión de su sistema 2+2j\n",
            "Ahora, por favor ingrese su impedancia 2+2j\n",
            "El voltaje de su sistema es de (1+0j) amperios\n"
          ]
        }
      ]
    }
  ]
}